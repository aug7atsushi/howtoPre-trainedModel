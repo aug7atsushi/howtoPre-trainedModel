{
  "nbformat": 4,
  "nbformat_minor": 0,
  "metadata": {
    "colab": {
      "name": "imageClassificationByVGG16.ipynb",
      "provenance": [],
      "collapsed_sections": [],
      "mount_file_id": "1ghxrzVg6nJN9VhD8h74BVoT6y1ydCajC",
      "authorship_tag": "ABX9TyP28x78XvzsD//eosEVKAxo"
    },
    "kernelspec": {
      "name": "python3",
      "display_name": "Python 3"
    },
    "accelerator": "GPU"
  },
  "cells": [
    {
      "cell_type": "code",
      "metadata": {
        "id": "DTgrwb-9kDuK",
        "colab_type": "code",
        "colab": {
          "base_uri": "https://localhost:8080/",
          "height": 51
        },
        "outputId": "39f22b3c-6e5d-4b4a-ed01-0d20f1d8bb7c"
      },
      "source": [
        "from keras.applications.vgg16 import VGG16\n",
        "model = VGG16(include_top=True, weights='imagenet', input_tensor=None, input_shape=None)"
      ],
      "execution_count": null,
      "outputs": [
        {
          "output_type": "stream",
          "text": [
            "Downloading data from https://storage.googleapis.com/tensorflow/keras-applications/vgg16/vgg16_weights_tf_dim_ordering_tf_kernels.h5\n",
            "553467904/553467096 [==============================] - 7s 0us/step\n"
          ],
          "name": "stdout"
        }
      ]
    },
    {
      "cell_type": "code",
      "metadata": {
        "id": "K_4yKdPKlXCc",
        "colab_type": "code",
        "colab": {
          "base_uri": "https://localhost:8080/",
          "height": 935
        },
        "outputId": "c5e5fdfb-c426-45e5-e950-3551b6947e1a"
      },
      "source": [
        "from keras.applications.vgg16 import VGG16, preprocess_input, decode_predictions\n",
        "from keras.preprocessing import image\n",
        "import numpy as np\n",
        "import glob\n",
        "\n",
        "filelist = glob.glob(\"./img/*\")\n",
        "\n",
        "# loading VGG16 (load structure and weights)\n",
        "model = VGG16(weights='imagenet')\n",
        "model.summary()"
      ],
      "execution_count": null,
      "outputs": [
        {
          "output_type": "stream",
          "text": [
            "Model: \"vgg16\"\n",
            "_________________________________________________________________\n",
            "Layer (type)                 Output Shape              Param #   \n",
            "=================================================================\n",
            "input_9 (InputLayer)         [(None, 224, 224, 3)]     0         \n",
            "_________________________________________________________________\n",
            "block1_conv1 (Conv2D)        (None, 224, 224, 64)      1792      \n",
            "_________________________________________________________________\n",
            "block1_conv2 (Conv2D)        (None, 224, 224, 64)      36928     \n",
            "_________________________________________________________________\n",
            "block1_pool (MaxPooling2D)   (None, 112, 112, 64)      0         \n",
            "_________________________________________________________________\n",
            "block2_conv1 (Conv2D)        (None, 112, 112, 128)     73856     \n",
            "_________________________________________________________________\n",
            "block2_conv2 (Conv2D)        (None, 112, 112, 128)     147584    \n",
            "_________________________________________________________________\n",
            "block2_pool (MaxPooling2D)   (None, 56, 56, 128)       0         \n",
            "_________________________________________________________________\n",
            "block3_conv1 (Conv2D)        (None, 56, 56, 256)       295168    \n",
            "_________________________________________________________________\n",
            "block3_conv2 (Conv2D)        (None, 56, 56, 256)       590080    \n",
            "_________________________________________________________________\n",
            "block3_conv3 (Conv2D)        (None, 56, 56, 256)       590080    \n",
            "_________________________________________________________________\n",
            "block3_pool (MaxPooling2D)   (None, 28, 28, 256)       0         \n",
            "_________________________________________________________________\n",
            "block4_conv1 (Conv2D)        (None, 28, 28, 512)       1180160   \n",
            "_________________________________________________________________\n",
            "block4_conv2 (Conv2D)        (None, 28, 28, 512)       2359808   \n",
            "_________________________________________________________________\n",
            "block4_conv3 (Conv2D)        (None, 28, 28, 512)       2359808   \n",
            "_________________________________________________________________\n",
            "block4_pool (MaxPooling2D)   (None, 14, 14, 512)       0         \n",
            "_________________________________________________________________\n",
            "block5_conv1 (Conv2D)        (None, 14, 14, 512)       2359808   \n",
            "_________________________________________________________________\n",
            "block5_conv2 (Conv2D)        (None, 14, 14, 512)       2359808   \n",
            "_________________________________________________________________\n",
            "block5_conv3 (Conv2D)        (None, 14, 14, 512)       2359808   \n",
            "_________________________________________________________________\n",
            "block5_pool (MaxPooling2D)   (None, 7, 7, 512)         0         \n",
            "_________________________________________________________________\n",
            "flatten (Flatten)            (None, 25088)             0         \n",
            "_________________________________________________________________\n",
            "fc1 (Dense)                  (None, 4096)              102764544 \n",
            "_________________________________________________________________\n",
            "fc2 (Dense)                  (None, 4096)              16781312  \n",
            "_________________________________________________________________\n",
            "predictions (Dense)          (None, 1000)              4097000   \n",
            "=================================================================\n",
            "Total params: 138,357,544\n",
            "Trainable params: 138,357,544\n",
            "Non-trainable params: 0\n",
            "_________________________________________________________________\n"
          ],
          "name": "stdout"
        }
      ]
    },
    {
      "cell_type": "code",
      "metadata": {
        "id": "7UJVnoqQs6NM",
        "colab_type": "code",
        "colab": {
          "base_uri": "https://localhost:8080/",
          "height": 323
        },
        "outputId": "1eae92de-150f-458a-c7f0-01af52c276f6"
      },
      "source": [
        "for filename in filelist:\n",
        "\n",
        "  # read target image and resize to 224*224\n",
        "  img = image.load_img(filename, target_size=(224, 224))\n",
        "  x = image.img_to_array(img)\n",
        "\n",
        "  # convert (rows, cols, channels) to (samples=1, rows, cols, channels)\n",
        "  x = np.expand_dims(x, axis=0)\n",
        "\n",
        "  # predict image class\n",
        "  x = preprocess_input(x)\n",
        "  preds = model.predict(x)\n",
        "  top = decode_predictions(preds, top=1)[0]\n",
        "  \n",
        "  print(filename)\n",
        "  for ranking in top:\n",
        "      print(ranking)"
      ],
      "execution_count": null,
      "outputs": [
        {
          "output_type": "stream",
          "text": [
            "./img/angora.jpg\n",
            "('n02328150', 'Angora', 0.99450266)\n",
            "./img/building.JPG\n",
            "('n02843684', 'birdhouse', 0.24984714)\n",
            "./img/painting.JPG\n",
            "('n04476259', 'tray', 0.20183338)\n",
            "./img/coffee.JPG\n",
            "('n04033901', 'quill', 0.101265706)\n",
            "./img/microphone.JPG\n",
            "('n03759954', 'microphone', 0.9588188)\n",
            "./img/mouse.jpg\n",
            "('n03793489', 'mouse', 0.86438686)\n",
            "./img/flower.JPG\n",
            "('n03014705', 'chest', 0.16852874)\n",
            "./img/view.JPG\n",
            "('n02980441', 'castle', 0.26561406)\n",
            "./img/tea.JPG\n",
            "('n04254120', 'soap_dispenser', 0.23835528)\n"
          ],
          "name": "stdout"
        }
      ]
    }
  ]
}