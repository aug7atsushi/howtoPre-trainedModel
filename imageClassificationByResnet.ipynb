{
  "nbformat": 4,
  "nbformat_minor": 0,
  "metadata": {
    "colab": {
      "name": "imageClassificationByResnet.ipynb",
      "provenance": [],
      "collapsed_sections": [],
      "toc_visible": true,
      "mount_file_id": "1bB6zgCvpDSw0yxNva_CAd6Hjqo9jJVw3",
      "authorship_tag": "ABX9TyORYfXZx72UqKNqKkL32yis",
      "include_colab_link": true
    },
    "kernelspec": {
      "name": "python3",
      "display_name": "Python 3"
    }
  },
  "cells": [
    {
      "cell_type": "markdown",
      "metadata": {
        "id": "view-in-github",
        "colab_type": "text"
      },
      "source": [
        "<a href=\"https://colab.research.google.com/github/aug7atsushi/howtoPre-trainedModel/blob/master/imageClassificationByResnet.ipynb\" target=\"_parent\"><img src=\"https://colab.research.google.com/assets/colab-badge.svg\" alt=\"Open In Colab\"/></a>"
      ]
    },
    {
      "cell_type": "code",
      "metadata": {
        "id": "85eUw-yJD8LX",
        "colab_type": "code",
        "colab": {
          "base_uri": "https://localhost:8080/",
          "height": 34
        },
        "outputId": "9a1f4fd4-011f-4576-aeb5-2c94fd77feff"
      },
      "source": [
        "from keras.applications.resnet50 import ResNet50\n",
        "from keras.preprocessing import image\n",
        "from keras.applications.resnet50 import preprocess_input, decode_predictions\n",
        "import numpy as np\n",
        "import glob\n",
        "\n",
        "filelist = glob.glob(\"./img/*\")\n",
        "\n",
        "print(filelist)\n",
        "\n",
        "# loading Resnet (load structure and weights)\n",
        "model = ResNet50(weights='imagenet')\n",
        "# model.summary()"
      ],
      "execution_count": null,
      "outputs": [
        {
          "output_type": "stream",
          "text": [
            "['./img/angora.jpg', './img/tea.JPG', './img/coffee.JPG', './img/mouse.jpg', './img/microphone.JPG', './img/painting.JPG', './img/view.JPG', './img/flower.JPG', './img/building.JPG']\n"
          ],
          "name": "stdout"
        }
      ]
    },
    {
      "cell_type": "code",
      "metadata": {
        "id": "VbIMkRE_RxdR",
        "colab_type": "code",
        "colab": {
          "base_uri": "https://localhost:8080/",
          "height": 357
        },
        "outputId": "9b253b4e-58f5-4b4b-f7d9-1a4a7354ef9a"
      },
      "source": [
        "for filename in filelist:\n",
        "\n",
        "  # read target image and resize to 224*224\n",
        "  img = image.load_img(filename, target_size=(224, 224))\n",
        "  x = image.img_to_array(img)\n",
        "\n",
        "  # convert (rows, cols, channels) to (samples=1, rows, cols, channels)\n",
        "  x = np.expand_dims(x, axis=0)\n",
        "\n",
        "  # predict image class\n",
        "  x = preprocess_input(x)\n",
        "  preds = model.predict(x)\n",
        "  top = decode_predictions(preds, top=1)[0]\n",
        "  \n",
        "  print(filename)\n",
        "  for ranking in top:\n",
        "      print(ranking)"
      ],
      "execution_count": null,
      "outputs": [
        {
          "output_type": "stream",
          "text": [
            "Downloading data from https://storage.googleapis.com/download.tensorflow.org/data/imagenet_class_index.json\n",
            "40960/35363 [==================================] - 0s 0us/step\n",
            "./img/angora.jpg\n",
            "('n02328150', 'Angora', 0.93210745)\n",
            "./img/tea.JPG\n",
            "('n04522168', 'vase', 0.34383908)\n",
            "./img/coffee.JPG\n",
            "('n04591713', 'wine_bottle', 0.4691608)\n",
            "./img/mouse.jpg\n",
            "('n03793489', 'mouse', 0.9904542)\n",
            "./img/microphone.JPG\n",
            "('n03759954', 'microphone', 0.99656904)\n",
            "./img/painting.JPG\n",
            "('n04476259', 'tray', 0.6403015)\n",
            "./img/view.JPG\n",
            "('n03447447', 'gondola', 0.5354463)\n",
            "./img/flower.JPG\n",
            "('n03014705', 'chest', 0.12980226)\n",
            "./img/building.JPG\n",
            "('n03126707', 'crane', 0.53811866)\n"
          ],
          "name": "stdout"
        }
      ]
    }
  ]
}